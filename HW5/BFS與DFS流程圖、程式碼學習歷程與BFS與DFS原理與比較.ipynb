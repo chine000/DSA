{
 "cells": [
  {
   "cell_type": "markdown",
   "metadata": {},
   "source": [
    "# BFS\n",
    "廣度優先搜尋：通常會將資料轉為樹或是圖形的型態，從起始點開始，先廣後深地一一走訪相鄰且未走訪過的節點，直到尋遍所有節點為止，使用 queue 使資料先進先出。在此練習中，我們採用圖形（graph）的方式，走訪時將起始點設為 level 0，走訪其相鄰的點並設為 level 1，將 level 1 走訪完畢並設其相鄰點為 level 2，以此類推，直至所有節點走訪完畢。"
   ]
  },
  {
   "cell_type": "markdown",
   "metadata": {},
   "source": [
    "# DFS\n",
    "深度優先搜尋：分為遞歸與非遞歸的方式，與 BFS 相同，先將資料轉為樹或是圖形的型態，並以先深後廣之方式做訪節點。走訪時，若採用遞歸的方式，會先由起始點開始，走訪其第一個相鄰的點，並從這個分支依序走訪至結束，再返回起始點之其他節點，以相同的方式尋遍所有節點；若採用非遞歸的方式，則是由起始點開始，走訪起始點之最後一個相鄰點，並從這個分支依序走訪至結束，再返回起始點之前一個相鄰節點，以相同的方式尋遍所有節點。在此練習中，我們採用圖形（graph）與非遞歸的方式。"
   ]
  },
  {
   "cell_type": "markdown",
   "metadata": {},
   "source": [
    "# BFS 與 DFS 之比較\n",
    "BFS 與 DFS 是很相似的概念，都是循著相鄰的點一一走訪，最大的差異在於，BFS 是先將同一深度的結點走訪完，以廣度為優先走訪的順序，才再走訪下一個 level 的節點；而 DFS 不論是遞歸或是非遞歸，都是先走訪完起始點的一個相鄰分支，直到遇到死路才返回，意即以深度為優先走訪的順序。"
   ]
  },
  {
   "cell_type": "markdown",
   "metadata": {},
   "source": [
    "```由於 BFS 與 DFS 較難單用文字說明，因此學習歷程內並沒有詳細說明，而是以手寫的方式放在流程圖內，配合畫圖說明詳細邏輯構想與步驟。\n",
    "```"
   ]
  },
  {
   "cell_type": "markdown",
   "metadata": {},
   "source": [
    "# 學習歷程\n",
    "\n",
    "## 原本的構想：先試著套 for 與 while 迴圈\n",
    "原本想先參考網路上的寫法，但發現都看不懂 ...... 後來決定重新複習一次老師的投影片，理解完概念就開始著手寫了！\n",
    "   * [老師BFS投影片](https://docs.google.com/presentation/d/e/2PACX-1vSYJYXUXvGAeTZ5fknxj_-EPm3zxgy4ITdImrXzy63Y-iZgs8uwVNmOaZlnx9fUNzsbo8kphvMTa0c4/pub?start=false&loop=false&delayms=3000&slide=id.p)\n",
    "\n",
    "因為在我的理解中 BFS 是以遞迴的方式在跑，於是我設了兩個空間，先寫 for 迴圈，讓 self.graph[s] 中的節點加入第一個空間，再試寫了 while 迴圈，讓 s 這個變數在第一個空間中不斷往下一個節點跑，卻發現這個寫法在 array 的語法中會卡住，output 只有出現起始點，代表迴圈沒有作用。"
   ]
  },
  {
   "cell_type": "code",
   "execution_count": 1,
   "metadata": {},
   "outputs": [],
   "source": [
    "from collections import defaultdict \n",
    "\n",
    "class Graph:\n",
    "    def __init__(self):\n",
    "        self.graph = defaultdict(list) \n",
    "\n",
    "    def addEdge(self,u,v): \n",
    "        self.graph[u].append(v) \n",
    "  \n",
    "    def BFS(self, s): \n",
    "        new = []\n",
    "        res = []\n",
    "        j = 0\n",
    "        while s:\n",
    "            for i in range(0,len(self.graph[s])):\n",
    "                new.append(self.graph[s][i])\n",
    "            res.append(s)\n",
    "            s = new[j]\n",
    "            j += 1\n",
    "        return res"
   ]
  },
  {
   "cell_type": "markdown",
   "metadata": {},
   "source": [
    "後來決定在第一個空間中，用加一次就刪一個的方式，最後的 output 是 None，我認為問題是出在 while 迴圈，於是我改寫成兩個 for 迴圈，並且以點的個數去決定跑幾次迴圈。"
   ]
  },
  {
   "cell_type": "code",
   "execution_count": 2,
   "metadata": {},
   "outputs": [],
   "source": [
    "from collections import defaultdict \n",
    "\n",
    "class Graph:\n",
    "    def __init__(self):\n",
    "        self.graph = defaultdict(list) \n",
    "\n",
    "    def addEdge(self,u,v): \n",
    "        self.graph[u].append(v) \n",
    "  \n",
    "    def BFS(self, s): \n",
    "        new = []\n",
    "        res = []\n",
    "        while s:\n",
    "            for i in range(0,len(self.graph[s])):\n",
    "                new.append(self.graph[s][i])\n",
    "            res.append(s)\n",
    "            if new[0] != None:\n",
    "                s = new[0]\n",
    "                new.remove(new[0])\n",
    "            elif new[0] == None:\n",
    "                return res\n",
    "   "
   ]
  },
  {
   "cell_type": "markdown",
   "metadata": {},
   "source": [
    "這個版本終於有比較正常的 output 出來了，看起來要解決的問題只剩重複值不能加入第一個空間，參考網站後，發現還是看不太懂 ...... 但看得出來總共設了三個空間，因為不想將自己的程式碼用得更複雜，所以試試看在兩個空間中要如何避免重複值的存在，後來想到最簡單的方式，直接在第二個 for 迴圈中加入一個判斷式。\n",
    "   * [BFS重複值](http://f74461036.pixnet.net/blog/post/352335176)"
   ]
  },
  {
   "cell_type": "code",
   "execution_count": 3,
   "metadata": {},
   "outputs": [],
   "source": [
    "from collections import defaultdict \n",
    "\n",
    "class Graph:\n",
    "    def __init__(self):\n",
    "        self.graph = defaultdict(list) \n",
    "\n",
    "    def addEdge(self,u,v): \n",
    "        self.graph[u].append(v) \n",
    "  \n",
    "    def BFS(self, s): \n",
    "        new = []\n",
    "        res = []\n",
    "        for j in range(0,len(self.graph)-1):\n",
    "            for i in range(0,len(self.graph[s])):\n",
    "                new.append(self.graph[s][i])\n",
    "            res.append(s)\n",
    "            s = new[j]\n",
    "        return res"
   ]
  },
  {
   "cell_type": "markdown",
   "metadata": {},
   "source": [
    "## 最後的程式碼\n",
    "寫好大概的樣子後，就開始放入其他測資測試，發現若是有 7 個點，迴圈因我設的條件只會跑 6 次，最後才將最後一個節點指定為 s 變數，並沒有加進 res 裡面，導致 res 中會少了最後一個節點，所以在迴圈結束後，又將最後一個節點加入 res，就完成 BFS 了！\n",
    "\n",
    "DFS 的部分，同樣是看不懂網路上其他的程式碼以及概念講解，於是重新又複習了投影片與上課影片，理解概念後，因為看到了助教要求的 stack 與 pop 用法，所以參考了網站上的 pop 用法，就著手開始寫。\n",
    "\n",
    "   * [老師DFS投影片](https://docs.google.com/presentation/d/e/2PACX-1vTma_vOZyE70O23KWw4I4Y78aAaT5fJSTq7Mae912kCwka_u5ZMWPoo14D86-x-57kZPbb6hAGktSW4/pub?start=false&loop=false&delayms=3000&slide=id.p)\n",
    "   * [老師上課影片](http://isee.scu.edu.tw/mod/url/view.php?id=549964)\n",
    "   * [pop用法](https://blog.csdn.net/deqiangxiaozi/article/details/75808863)\n",
    "   \n",
    "還是想照著自己的思維去寫程式，加上別人的程式碼我也無法理解，所以我照著 BFS 的寫法去改寫，最大的差別就是在 DFS 中要將第一個空間中的最後一個節點 pop 掉，且無論有沒有新的數加入第一個空間，一次都必須 pop 掉一個節點並加入 res，於是更改了指定 s 與新增 s 進入 res 的順序，並在加入一個判斷式，以免起始點會漏加，最後在半小時內，就一次完成了 DFS！"
   ]
  },
  {
   "cell_type": "code",
   "execution_count": 4,
   "metadata": {},
   "outputs": [],
   "source": [
    "from collections import defaultdict \n",
    "\n",
    "class Graph:\n",
    "    def __init__(self):\n",
    "        self.graph = defaultdict(list) \n",
    "\n",
    "    def addEdge(self,u,v): \n",
    "        self.graph[u].append(v) \n",
    "  \n",
    "    def BFS(self, s): \n",
    "        queue = []\n",
    "        res = []\n",
    "        for j in range(len(self.graph)-1):\n",
    "            for i in range(0,len(self.graph[s])):\n",
    "                if self.graph[s][i] not in queue and self.graph[s][i] not in res:\n",
    "                    queue.append(self.graph[s][i])\n",
    "            res.append(s)\n",
    "            s = queue[j]\n",
    "        res.append(s)\n",
    "        return res\n",
    "    \n",
    "    def DFS(self, s):\n",
    "        stack = []\n",
    "        res = []\n",
    "        for j in range(len(self.graph)-1):\n",
    "            for i in range(0,len(self.graph[s])):\n",
    "                if self.graph[s][i] not in stack and self.graph[s][i] not in res:\n",
    "                    stack.append(self.graph[s][i])\n",
    "            if len(res) == 0:\n",
    "                res.append(s)\n",
    "            s = stack.pop(-1)\n",
    "            res.append(s)\n",
    "        return res"
   ]
  },
  {
   "cell_type": "markdown",
   "metadata": {},
   "source": [
    "## 以下為測資"
   ]
  },
  {
   "cell_type": "code",
   "execution_count": 5,
   "metadata": {},
   "outputs": [
    {
     "name": "stdout",
     "output_type": "stream",
     "text": [
      "[2, 0, 3, 1]\n",
      "[2, 3, 0, 1]\n"
     ]
    }
   ],
   "source": [
    "g = Graph()\n",
    "g.addEdge(0,1)\n",
    "g.addEdge(0,2)\n",
    "g.addEdge(1,2)\n",
    "g.addEdge(2,0)\n",
    "g.addEdge(2,3)\n",
    "g.addEdge(3,3)\n",
    "\n",
    "print(g.BFS(2)) #[2,0,3,1]\n",
    "print(g.DFS(2)) #[2,3,0,1]"
   ]
  },
  {
   "cell_type": "code",
   "execution_count": 6,
   "metadata": {},
   "outputs": [
    {
     "name": "stdout",
     "output_type": "stream",
     "text": [
      "[1, 3, 5, 2, 6, 7, 8]\n",
      "[1, 5, 7, 2, 3, 6, 8]\n"
     ]
    }
   ],
   "source": [
    "g = Graph()\n",
    "g.addEdge(1,3)\n",
    "g.addEdge(1,5)\n",
    "g.addEdge(2,7)\n",
    "g.addEdge(3,5)\n",
    "g.addEdge(3,2)\n",
    "g.addEdge(3,6)\n",
    "g.addEdge(5,2)\n",
    "g.addEdge(5,7)\n",
    "g.addEdge(6,2)\n",
    "g.addEdge(6,8)\n",
    "g.addEdge(7,7)\n",
    "g.addEdge(8,8)\n",
    "\n",
    "print(g.BFS(1)) #[1,3,5,2,6,7,8]\n",
    "print(g.DFS(1)) #[1,5,7,2,3,6,8]"
   ]
  },
  {
   "cell_type": "code",
   "execution_count": 7,
   "metadata": {},
   "outputs": [
    {
     "name": "stdout",
     "output_type": "stream",
     "text": [
      "[2, 1, 8, 4, 9, 5]\n",
      "[2, 1, 8, 9, 5, 4]\n"
     ]
    }
   ],
   "source": [
    "g = Graph()\n",
    "g.addEdge(1,8)\n",
    "g.addEdge(2,1)\n",
    "g.addEdge(4,9)\n",
    "g.addEdge(5,5)\n",
    "g.addEdge(8,2)\n",
    "g.addEdge(8,4)\n",
    "g.addEdge(8,9)\n",
    "g.addEdge(9,5)\n",
    "\n",
    "print(g.BFS(2)) #[2, 1, 8, 4, 9, 5]\n",
    "print(g.DFS(2)) #[2, 1, 8, 9, 5, 4]"
   ]
  },
  {
   "cell_type": "markdown",
   "metadata": {},
   "source": [
    "# 流程圖"
   ]
  },
  {
   "cell_type": "markdown",
   "metadata": {},
   "source": [
    "![](https://i.imgur.com/i7NIMPm.jpg)"
   ]
  },
  {
   "cell_type": "markdown",
   "metadata": {},
   "source": [
    "![](https://i.imgur.com/OJ1zb4N.jpg)"
   ]
  },
  {
   "cell_type": "markdown",
   "metadata": {},
   "source": [
    "# 參考資料"
   ]
  },
  {
   "cell_type": "markdown",
   "metadata": {},
   "source": [
    "https://docs.google.com/presentation/d/e/2PACX-1vSYJYXUXvGAeTZ5fknxj_-EPm3zxgy4ITdImrXzy63Y-iZgs8uwVNmOaZlnx9fUNzsbo8kphvMTa0c4/pub?start=false&loop=false&delayms=3000&slide=id.p\n",
    "\n",
    "http://f74461036.pixnet.net/blog/post/352335176\n",
    "\n",
    "https://docs.google.com/presentation/d/e/2PACX-1vTma_vOZyE70O23KWw4I4Y78aAaT5fJSTq7Mae912kCwka_u5ZMWPoo14D86-x-57kZPbb6hAGktSW4/pub?start=false&loop=false&delayms=3000&slide=id.p\n",
    "\n",
    "http://isee.scu.edu.tw/mod/url/view.php?id=549964\n",
    "\n",
    "https://blog.csdn.net/deqiangxiaozi/article/details/75808863"
   ]
  }
 ],
 "metadata": {
  "kernelspec": {
   "display_name": "Python 3",
   "language": "python",
   "name": "python3"
  },
  "language_info": {
   "codemirror_mode": {
    "name": "ipython",
    "version": 3
   },
   "file_extension": ".py",
   "mimetype": "text/x-python",
   "name": "python",
   "nbconvert_exporter": "python",
   "pygments_lexer": "ipython3",
   "version": "3.6.4"
  }
 },
 "nbformat": 4,
 "nbformat_minor": 2
}
