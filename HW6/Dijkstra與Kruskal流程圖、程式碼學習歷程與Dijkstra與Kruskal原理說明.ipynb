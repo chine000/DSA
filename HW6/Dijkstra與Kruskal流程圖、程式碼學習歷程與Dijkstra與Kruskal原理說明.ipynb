{
 "cells": [
  {
   "cell_type": "markdown",
   "metadata": {},
   "source": [
    "# Dijkstra\n",
    "戴克斯特拉算法：以某一節點為起始點，最後計算出起始點至各點的最短路徑之演算法。首先以某一節點作為起始點，在與其相連且未被選取的節點裡，選擇一個離出發點距離最短的節點新增，由於新增節點的邊之權重可能會影響目前起始點到各點的距離，因此每次新增一個節點，必須確保起始點到達其他節點的距離為最短路徑，如此重覆加入新節點，直到所有的節點都被加入為止即完成。"
   ]
  },
  {
   "cell_type": "markdown",
   "metadata": {},
   "source": [
    "# Kruskal\n",
    "克魯斯克爾演算法：以節點建圖，並以增加邊為主軸的演算法。首先將所有的邊依權重大小排序，從權重最小的邊開始增加，若要形成邊的兩端節點未在同一條連通的邊上即可加入，每次要加入一條邊便需檢查有無可能形成 loop，確保圖形為非封閉而是有開口的，最終連完所有節點、增加了點個數 +1 條邊即完成。"
   ]
  },
  {
   "cell_type": "markdown",
   "metadata": {},
   "source": [
    "```由於 Dijkstra 與 Kruskal 較難單用文字說明，因此學習歷程內並沒有詳細說明，而是以手寫的方式放在流程圖內，配合畫圖說明詳細邏輯構想與步驟。\n",
    "```"
   ]
  },
  {
   "cell_type": "markdown",
   "metadata": {},
   "source": [
    "# 學習歷程\n",
    "\n",
    "## Dijkstra\n",
    "這一次作業的概念比較難理解，因此轉為程式碼時過程變得更加困難，一樣在寫程式碼前先去複習老師的投影片。\n",
    "   * [老師Dijkstra投影片](https://docs.google.com/presentation/d/e/2PACX-1vTgHO5AkHJS6iN6bnnBMMdHv6E4rabnrC0KwyTRfjad8Ab3IQjbnGvZuQOjDC9t7nKqeroiwcuasJrI/pub?start=false&loop=false&delayms=3000&slide=id.p)\n",
    "   \n",
    "一開始程式碼的雛形生產了很久，由於 Dijkstra 的概念很抽象，我還是上網找了一點可以起頭的想法，參考網站如下後，我決定先設第一個 array 以代表新增節點時目前已記錄的最短路徑，並使此陣列的初始狀態皆為無限。然後又卡關，原本天真的以為無限可以直接以 ∞ 表示，後來發現符號沒有變色，所以參考了其他網站的無限語法，另外，因為單憑一個陣列似乎無法找出下一個 s 以形成迴圈，所以又設了一個 array 用來比較出相連且最近的的節點作為下一個 s，而要找出 s 必須搜尋 com 陣列中最小值的位置，但不太可能為了找最小值排序整個陣列，所以搜尋了尋找最小值的語法。\n",
    "   * [Dijkstra參考網站](https://ithelp.ithome.com.tw/articles/10209593)\n",
    "   * [無限語法](https://segmentfault.com/a/1190000011908915)\n",
    "   * [尋找最小值](https://blog.csdn.net/fengjiexyb/article/details/77435676)\n",
    "   \n",
    "最後寫出了 compile 成功的程式碼，但是 output 在迴圈跑第三次時就出錯了導致後面數值都重複，不過第一個版本就沒有出現 error 讓我好感動，雖然前面起頭的時間有點久，但還好方向都是對的。"
   ]
  },
  {
   "cell_type": "code",
   "execution_count": 5,
   "metadata": {},
   "outputs": [],
   "source": [
    "from collections import defaultdict \n",
    "\n",
    "class Graph(): \n",
    "    \n",
    "    def __init__(self, vertices): \n",
    "        self.V = vertices \n",
    "        self.graph = [] \n",
    "        self.graph_matrix = [[0 for column in range(vertices)]  \n",
    "                    for row in range(vertices)] \n",
    "    def addEdge(self,u,v,w): \n",
    "        \"\"\"\n",
    "        :type u,v,w: int\n",
    "        :rtype: None\n",
    "        \"\"\"\n",
    "    def Dijkstra(self, s): \n",
    "        \"\"\"\n",
    "        :type s: int\n",
    "        :rtype: dict\n",
    "        \"\"\"\n",
    "        dis = [float(\"inf\")] * self.V\n",
    "        com = [float(\"inf\")] * self.V\n",
    "        dis[0] = 0\n",
    "        for i in range(len(g.graph[s])):\n",
    "            if g.graph[s][i] > 0:\n",
    "                dis[i] = g.graph[s][i]\n",
    "                com[i] = g.graph[s][i]\n",
    "        while com != [float(\"inf\")] * self.V:\n",
    "            s = com.index(min(com))\n",
    "            com[s] = float(\"inf\")\n",
    "            com[0] = 0\n",
    "            for j in range(len(g.graph[s])):\n",
    "                if dis[s] + g.graph[s][j] < dis[j]:\n",
    "                    dis[j] = dis[s] + g.graph[s][j]\n",
    "                    com[j] = dis[s] + g.graph[s][j]\n",
    "            com[0] = float(\"inf\")\n",
    "        for k in range(self.V):\n",
    "            print (k,\"=\",dis[k])\n",
    "        \n",
    "    def Kruskal(self):\n",
    "        \"\"\"\n",
    "        :rtype: dict\n",
    "        \"\"\""
   ]
  },
  {
   "cell_type": "markdown",
   "metadata": {},
   "source": [
    "在循著測資反覆檢查程式碼之後，發現了問題可能出在初始值設成無限的關係，由於所有數怎麼相加都比無限小，於是只要比無限小，就算還未新增到後面的點，dis 陣列中的數字就都會被更新，所以我加上一個判斷式，若 dis 陣列中的一位置為無限且同一位置測資也為 0，即使測資改為無限，最後 output 還是在跑第四次迴圈時出了一樣的問題。"
   ]
  },
  {
   "cell_type": "code",
   "execution_count": 7,
   "metadata": {},
   "outputs": [],
   "source": [
    "from collections import defaultdict \n",
    "import math\n",
    "\n",
    "class Graph(): \n",
    "    \n",
    "    def __init__(self, vertices): \n",
    "        self.V = vertices \n",
    "        self.graph = [] \n",
    "        self.graph_matrix = [[0 for column in range(vertices)]  \n",
    "                    for row in range(vertices)] \n",
    "    def addEdge(self,u,v,w): \n",
    "        \"\"\"\n",
    "        :type u,v,w: int\n",
    "        :rtype: None\n",
    "        \"\"\"\n",
    "    def Dijkstra(self, s): \n",
    "        \"\"\"\n",
    "        :type s: int\n",
    "        :rtype: dict\n",
    "        \"\"\"\n",
    "        dis = [float(\"inf\")] * self.V\n",
    "        com = [float(\"inf\")] * self.V\n",
    "        dis[0] = 0\n",
    "        for i in range(len(g.graph[s])):\n",
    "            if g.graph[s][i] > 0:\n",
    "                dis[i] = g.graph[s][i]\n",
    "                com[i] = g.graph[s][i]\n",
    "        while com != [float(\"inf\")] * self.V:\n",
    "            s = com.index(min(com))\n",
    "            com[s] = float(\"inf\")\n",
    "            com[0] = 0\n",
    "            for j in range(len(g.graph[s])):\n",
    "                if math.isinf(dis[j]) == True and g.graph[s][j] == 0:\n",
    "                    g.graph[s][j] = float(\"inf\")\n",
    "                if dis[s] + g.graph[s][j] < dis[j]:\n",
    "                    dis[j] = dis[s] + g.graph[s][j]\n",
    "                    com[j] = dis[s] + g.graph[s][j]\n",
    "            com[0] = float(\"inf\")\n",
    "        for k in range(self.V):\n",
    "            print (k,\"=\",dis[k])\n",
    "        \n",
    "    def Kruskal(self):\n",
    "        \"\"\"\n",
    "        :rtype: dict\n",
    "        \"\"\""
   ]
  },
  {
   "cell_type": "markdown",
   "metadata": {},
   "source": [
    "這裡真的卡關整整一天，怎麼想都想不到該如何解決，甚至想要全部重寫，後來我隨意地改判斷式，想把每個可能都試過，最後發現原來少一個條件就可以了！原來重點在測資的那一列的位置若是 0 即忽略，就可以把正確的 output print 出來了。\n",
    "\n",
    "output 的形式也是卡了半天，原本用很笨的方式想直接讓它顯示出來，後來去問了我們班的助教，原來它有一個語法 dictionary，參考網站上的用法也寫出來了。\n",
    "   * [dictionary 語法](https://www.jianshu.com/p/fbf71e6da515)"
   ]
  },
  {
   "cell_type": "markdown",
   "metadata": {},
   "source": [
    "## Kruskal\n",
    "Kruskal 沒有留下其他版本，因為一開始就把大概的程式碼打出來了，再來不斷 debug，小幅修改、加上判斷式。\n",
    "\n",
    "與 Dijkstra 一樣都是概念較難理解，所以也是先去複習老師的程式碼，突然發現這種概念比較抽象的演算法，真的很容易完全忘記它是怎麼運行的。一開始因為要寫 addedge，還參考了之前 BFS、DFS 的寫法，但不同的是必須可以指定 g.graph 的第幾列，以及必須排序 g.graph 中的最後一個位置的元素，也就是權重，於是我參考以下網站，將 u、v、w 設為同一列，並將權重調到最前面的位置去用 sort( ) 的方式排序。\n",
    "   * [老師Kruskal投影片](https://docs.google.com/presentation/d/e/2PACX-1vTorNDEyhYA4ZAt5jEqOmFs2cQiUAYvkTp-R0DOn9B3c1MuUecV-a1wNakFIrJxA6AoUFGzbl3OQBIJ/pub?start=false&loop=false&delayms=3000&slide=id.p)\n",
    "   * [add edge](https://www.geeksforgeeks.org/kruskals-minimum-spanning-tree-algorithm-greedy-algo-2/)\n",
    "\n",
    "第一次 output 依然是 compile 成功的狀態，但是 loop 的問題沒有成功解決，也是因為自己對數字位置的替換方式還沒有了解得很清楚，後來請朋友幫忙看到底哪裡出錯，才發現需要在迴圈前加上變數 temp，一切問題就解決了，有時候真的只有自己看不清楚哪裡出錯，謝謝朋友的幫忙 ♡"
   ]
  },
  {
   "cell_type": "code",
   "execution_count": 1,
   "metadata": {},
   "outputs": [],
   "source": [
    "from collections import defaultdict \n",
    "import math\n",
    "\n",
    "class Graph(): \n",
    "    \n",
    "    def __init__(self, vertices): \n",
    "        self.V = vertices \n",
    "        self.graph = [] \n",
    "        self.graph_matrix = [[0 for column in range(vertices)]  \n",
    "                    for row in range(vertices)] \n",
    "        \n",
    "    def addEdge(self,u,v,w): \n",
    "        self.graph.append([w,u,v])\n",
    "        \n",
    "    def Dijkstra(self, s): \n",
    "        dis = [float(\"inf\")] * self.V\n",
    "        com = [float(\"inf\")] * self.V\n",
    "        dis[0] = 0\n",
    "        \n",
    "        for i in range(len(g.graph[s])):\n",
    "            if g.graph[s][i] > 0:\n",
    "                dis[i] = g.graph[s][i]\n",
    "                com[i] = g.graph[s][i]\n",
    "                \n",
    "        while com != [float(\"inf\")] * self.V:\n",
    "            s = com.index(min(com))\n",
    "            com[s] = float(\"inf\")\n",
    "            for j in range(len(g.graph[s])):\n",
    "                if g.graph[s][j] == 0:\n",
    "                    continue\n",
    "                elif dis[s] + g.graph[s][j] < dis[j]:\n",
    "                    dis[j] = dis[s] + g.graph[s][j]\n",
    "                    com[j] = dis[s] + g.graph[s][j]\n",
    "                    \n",
    "        dict = {}\n",
    "        for k in range (self.V):\n",
    "            dict[str(k)] = dis[k]\n",
    "            \n",
    "        return dict\n",
    "    \n",
    "    def Kruskal(self):\n",
    "        g.graph.sort()\n",
    "        root = [-1] * self.V\n",
    "        res = []\n",
    "        dict = {}\n",
    "        \n",
    "        for i in range(0,len(g.graph)):\n",
    "            if root[g.graph[i][1]] == root[g.graph[i][2]]:\n",
    "                if root[g.graph[i][1]] == -1 and root[g.graph[i][2]] == -1:\n",
    "                    root[g.graph[i][1]] = g.graph[i][1]\n",
    "                    root[g.graph[i][2]] = g.graph[i][1]\n",
    "                    res.append(g.graph[i][0])\n",
    "                else:\n",
    "                    continue\n",
    "            else:\n",
    "                if root[g.graph[i][1]] == -1:\n",
    "                    root[g.graph[i][1]] = g.graph[i][1]\n",
    "                    j = 0\n",
    "                    temp = root[g.graph[i][2]]\n",
    "                    while j < len(root):\n",
    "                        if root[j] == temp:\n",
    "                            root[j] = g.graph[i][1]\n",
    "                        j += 1\n",
    "                elif root[g.graph[i][2]] == -1:\n",
    "                    root[g.graph[i][2]] = root[g.graph[i][1]]\n",
    "                else:\n",
    "                    temp1 = root[g.graph[i][2]]\n",
    "                    for k in range(0,len(root)):\n",
    "                        if root[k] == temp1:\n",
    "                            root[k] = root[g.graph[i][1]]\n",
    "                res.append(g.graph[i][0])\n",
    "                \n",
    "            h = str(g.graph[i][1]) + '-' + str(g.graph[i][2])\n",
    "            dict[h] = res[-1]\n",
    "        \n",
    "        return dict"
   ]
  },
  {
   "cell_type": "markdown",
   "metadata": {},
   "source": [
    "## 以下為測資\n",
    "除了助教的測資，我還各多加了一個，因為助教的測資都比較簡單，很容易出現以為自己都做對了但還有其他複雜情況沒考慮到的情形。"
   ]
  },
  {
   "cell_type": "code",
   "execution_count": 2,
   "metadata": {},
   "outputs": [
    {
     "name": "stdout",
     "output_type": "stream",
     "text": [
      "Dijkstra {'0': 0, '1': 4, '2': 12, '3': 19, '4': 21, '5': 11, '6': 9, '7': 8, '8': 14}\n",
      "Dijkstra {'0': 0, '1': 2, '2': 5, '3': 6, '4': 13, '5': 14, '6': 8, '7': 10, '8': 9}\n",
      "Kruskal {'2-3': 4, '0-3': 5, '0-1': 10}\n",
      "Kruskal {'6-9': 1, '1-4': 2, '2-5': 2, '3-6': 2, '0-3': 3, '1-2': 3, '3-4': 3, '5-8': 3, '6-7': 3}\n"
     ]
    }
   ],
   "source": [
    "g = Graph(9)\n",
    "g.graph=[[0,4,0,0,0,0,0,8,0],\n",
    "         [4,0,8,0,0,0,0,11,0],\n",
    "         [0,8,0,7,0,4,0,0,2],\n",
    "         [0,0,7,0,9,14,0,0,0],\n",
    "         [0,0,0,9,0,10,0,0,0],\n",
    "         [0,0,4,14,10,0,2,0,0],\n",
    "         [0,0,0,0,0,2,0,1,6],\n",
    "         [8,11,0,0,0,0,1,0,7],\n",
    "         [0,0,2,0,0,0,6,7,0]\n",
    "        ];\n",
    "\n",
    "print(\"Dijkstra\",g.Dijkstra(0))\n",
    "\n",
    "\n",
    "g = Graph(9)\n",
    "g.graph=[[0,2,0,0,0,0,0,0,0],\n",
    "         [2,0,3,0,0,0,0,0,0],\n",
    "         [0,3,0,1,0,0,0,5,0],\n",
    "         [0,0,1,0,7,0,2,0,8],\n",
    "         [0,0,0,7,0,5,0,0,0],\n",
    "         [0,0,0,0,5,0,6,0,0],\n",
    "         [0,0,0,2,0,6,0,0,1],\n",
    "         [0,0,5,0,0,0,0,0,4],\n",
    "         [0,0,0,0,0,0,1,4,0]\n",
    "        ];\n",
    "\n",
    "print(\"Dijkstra\",g.Dijkstra(0))\n",
    "\n",
    "\n",
    "g = Graph(4) \n",
    "g.addEdge(0, 1, 10) \n",
    "g.addEdge(0, 2, 6) \n",
    "g.addEdge(0, 3, 5) \n",
    "g.addEdge(1, 3, 15) \n",
    "g.addEdge(2, 3, 4) \n",
    "\n",
    "print(\"Kruskal\",g.Kruskal())\n",
    "\n",
    "\n",
    "g = Graph(10)\n",
    "g.addEdge(0, 1, 7)\n",
    "g.addEdge(0, 3, 3)\n",
    "g.addEdge(1, 2, 3)\n",
    "g.addEdge(1, 4, 2)\n",
    "g.addEdge(2, 5, 2)\n",
    "g.addEdge(3, 4, 3)\n",
    "g.addEdge(3, 6, 2)\n",
    "g.addEdge(4, 5, 5)\n",
    "g.addEdge(4, 7, 7)\n",
    "g.addEdge(5, 8, 3)\n",
    "g.addEdge(6, 7, 3)\n",
    "g.addEdge(6, 9, 1)\n",
    "g.addEdge(7, 8, 7)\n",
    "\n",
    "print(\"Kruskal\",g.Kruskal())"
   ]
  },
  {
   "cell_type": "markdown",
   "metadata": {},
   "source": [
    "# 流程圖"
   ]
  },
  {
   "cell_type": "markdown",
   "metadata": {},
   "source": [
    "![](https://i.imgur.com/ZeYLwpQ.jpg)"
   ]
  },
  {
   "cell_type": "markdown",
   "metadata": {},
   "source": [
    "![](https://i.imgur.com/814m2cI.jpg)"
   ]
  },
  {
   "cell_type": "markdown",
   "metadata": {},
   "source": [
    "# 參考資料\n",
    "\n",
    "https://docs.google.com/presentation/d/e/2PACX-1vTgHO5AkHJS6iN6bnnBMMdHv6E4rabnrC0KwyTRfjad8Ab3IQjbnGvZuQOjDC9t7nKqeroiwcuasJrI/pub?start=false&loop=false&delayms=3000&slide=id.p\n",
    "\n",
    "https://ithelp.ithome.com.tw/articles/10209593\n",
    "\n",
    "https://segmentfault.com/a/1190000011908915\n",
    "\n",
    "https://blog.csdn.net/fengjiexyb/article/details/77435676\n",
    "\n",
    "https://www.jianshu.com/p/fbf71e6da515\n",
    "\n",
    "https://docs.google.com/presentation/d/e/2PACX-1vTorNDEyhYA4ZAt5jEqOmFs2cQiUAYvkTp-R0DOn9B3c1MuUecV-a1wNakFIrJxA6AoUFGzbl3OQBIJ/pub?start=false&loop=false&delayms=3000&slide=id.p\n",
    "\n",
    "https://www.geeksforgeeks.org/kruskals-minimum-spanning-tree-algorithm-greedy-algo-2/"
   ]
  }
 ],
 "metadata": {
  "kernelspec": {
   "display_name": "Python 3",
   "language": "python",
   "name": "python3"
  },
  "language_info": {
   "codemirror_mode": {
    "name": "ipython",
    "version": 3
   },
   "file_extension": ".py",
   "mimetype": "text/x-python",
   "name": "python",
   "nbconvert_exporter": "python",
   "pygments_lexer": "ipython3",
   "version": "3.6.4"
  }
 },
 "nbformat": 4,
 "nbformat_minor": 2
}
