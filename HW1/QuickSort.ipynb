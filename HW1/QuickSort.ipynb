{
 "cells": [
  {
   "cell_type": "markdown",
   "metadata": {},
   "source": [
    "## Quick Sort\n",
    "快速排序法：從數列中找出基準點 pivot，將比 pivot 小的數字放在 pivot 以左，比 pivot 大的數字放在 pivot 以右，接著 pivot 左邊的數字形成一個新數列，pivot 右邊的數字為另一個新數列，分別重複上述步驟，直至分不出新數列為止。"
   ]
  },
  {
   "cell_type": "markdown",
   "metadata": {},
   "source": [
    "### partition：先將陣列分為兩部分\n",
    "* 設 array = [ 9, 4, 1, 6, 7, 3, 8, 2, 5 ]"
   ]
  },
  {
   "cell_type": "markdown",
   "metadata": {},
   "source": [
    "1. front 為陣列最前端數字 9 的位置，end 為陣列最尾端數字 5 的位置，以最尾端數字 5 為基準點。\n",
    "2. 設 i 為 front（位置為0）的前一個位置 -1，設 j 為陣列中從 front (0) 至 end (8) 的位置。\n",
    "3. j 位置的數字與基準點比大小，若比基準點小，則 i 位置順移下一位，i 與 j 位置的數字交換，j 順移至下一位；若比基準點大，則 i 位置不變，j 順移至下一位。\n",
    "   * array [ j = 0 ] 代表第一個數字 9，大於基準點 5，則 i 位置不變 (-1)，j 移動至位置 1。\n",
    "   * array [ j = 1 ] 代表第二個數字 4，小於基準點 5，則 i 移動至 0，j 位置的數字 4 與 i 位置的數字 9 交換，j 移動至位置 2。\n",
    "4. 當 j 走完，基準點 5 與 i + 1 位置的數字 7 交換，並 return 基準點 i + 1。\n",
    "5. 此時的 array = [ 4, 1, 3, 2, 5, 9, 8, 6, 7 ] ，5 為已排序好的值，「5 以左的數字」以及「5 以右的數字」分別為兩個新的陣列。 "
   ]
  },
  {
   "cell_type": "code",
   "execution_count": 69,
   "metadata": {},
   "outputs": [],
   "source": [
    "# 先將陣列分為兩部分\n",
    "def partition(array,front,end):\n",
    "    i = front - 1    # 設i位置為-1\n",
    "    for j in range(front,end):\n",
    "        if array[j] <= array[end]:\n",
    "            i+=1\n",
    "            array[j],array[i] = array[i],array[j]\n",
    "            # 如果j所在位置的值小於end的值，則i往後移一位，並與j的值交換\n",
    "    array[i+1],array[end] = array[end],array[i+1]   # 將基準點放在兩部分的中間\n",
    "    return i+1"
   ]
  },
  {
   "cell_type": "markdown",
   "metadata": {},
   "source": [
    "### quicksort：將陣列不斷拆解成更小的數列，直至排序完成\n",
    "\n",
    "1. 以 front ~ end 中的元素進行分解。\n",
    "2. 以剛分好的兩個陣列 front ~ pivot - 1 與 pivot + 1 ~ end 進行 quicksort 函式分解。"
   ]
  },
  {
   "cell_type": "code",
   "execution_count": 70,
   "metadata": {},
   "outputs": [],
   "source": [
    "def quicksort(array,front,end):\n",
    "    if front < end:\n",
    "        pivot = partition(array,front,end)\n",
    "        quicksort(array,front,pivot-1)   # pivot以左陣列\n",
    "        quicksort(array,pivot+1,end)    # pivot以右陣列"
   ]
  },
  {
   "cell_type": "code",
   "execution_count": 67,
   "metadata": {},
   "outputs": [],
   "source": [
    "array = [9,4,1,6,7,3,8,2,5]"
   ]
  },
  {
   "cell_type": "code",
   "execution_count": 68,
   "metadata": {},
   "outputs": [
    {
     "name": "stdout",
     "output_type": "stream",
     "text": [
      "[1, 2, 3, 4, 5, 6, 7, 8, 9]\n"
     ]
    }
   ],
   "source": [
    "quicksort(array,0,8)   # 第0至第8位數字\n",
    "print (array)"
   ]
  }
 ],
 "metadata": {
  "kernelspec": {
   "display_name": "Python 3",
   "language": "python",
   "name": "python3"
  },
  "language_info": {
   "codemirror_mode": {
    "name": "ipython",
    "version": 3
   },
   "file_extension": ".py",
   "mimetype": "text/x-python",
   "name": "python",
   "nbconvert_exporter": "python",
   "pygments_lexer": "ipython3",
   "version": "3.6.4"
  }
 },
 "nbformat": 4,
 "nbformat_minor": 2
}
