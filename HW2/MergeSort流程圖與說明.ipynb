{
 "cells": [
  {
   "cell_type": "markdown",
   "metadata": {},
   "source": [
    "# Merge Sort\n",
    "合併排序法：將一個數列不斷對半分成兩個小數列，直至每一個小數列剩下一個元素為止，再將小數列倆倆排序後合併至最後的排序完成數列。"
   ]
  },
  {
   "cell_type": "markdown",
   "metadata": {},
   "source": [
    "# 學習歷程與說明\n",
    "## 原本的構想：merge_sort_1 函式\n",
    "以 Quick Sort 的基礎下去構想，卻出現了 IndexError: list index out of range。\n",
    "### Part 1 ：將陣列分解\n",
    "* 設 array = [ 3, 1, 5, 8, 2, 7, 9, 4 ] \n",
    "1. 定義 mergesort 函式，若陣列長度小於等於 1 則 return 原陣列，若大於 1 則走完以下步驟。\n",
    "2. 設 mid 為陣列長度一半的位置（也就是數字 8 的位置），mid 以左為 left 陣列，mid 以右為 right 陣列。\n",
    "3. 呼叫 mergesort 函式，重複步驟 2，將 2 個新陣列不斷地對半分至 4 個、8 個新陣列，直至每個新陣列中只剩一個元素（如步驟 1 ）。"
   ]
  },
  {
   "cell_type": "markdown",
   "metadata": {},
   "source": [
    "### Part 2 ：將小陣列倆倆排序合併\n",
    "\n",
    "1. 設 i、j 分別為 left、right 陣列的位置變數，從位置 0 開始。\n",
    "2. 設 for 迴圈，變數 c 代表原陣列的位置 0 至 7 。\n",
    "3. 若 left 陣列中 i 位置的數字小於 right 陣列中 j 位置的數字，i 位置的數字則丟進原陣列的 c 位置，i 位置順移下一位；若 left 陣列中 i 位置的數字大於 right 陣列中 j 位置的數字，j 位置的數字則丟進原陣列的 c 位置，j 位置順移下一位。\n",
    "   * 若 left = [ 1, 3, 5, 8 ]，right = [ 2, 4, 7, 9 ]。\n",
    "   * c = 0，left [ i = 0 ] 數字 1 小於 right [ j = 0 ] 數字 2，數字 1 丟進原陣列的位置 0，i 移動至 1。\n",
    "   * c = 1，left [ i = 1 ] 數字 3 大於 right [ j = 0 ] 數字 2，數字 2 丟進原陣列的位置 1，j 移動至 1。\n",
    "4. 原本認為 c 走完則可將陣列排序完成，但卻出現 error，顯示位置多出 for 迴圈的 range，也就是 i 與 j 會一直順延，即使陣列中已無數字，於是我參考了以下網站，將 for 迴圈改成 while 迴圈。\n",
    "   * [參考網站](https://blog.csdn.net/wliu0828/article/details/40426357) "
   ]
  },
  {
   "cell_type": "code",
   "execution_count": 1,
   "metadata": {},
   "outputs": [],
   "source": [
    "class Solution(object):\n",
    "    def merge_sort_1(self,nums):\n",
    "\n",
    "        if len(nums) <= 1: \n",
    "            return nums   #若數列中只有一個數字或沒有數字，直接retrun陣列\n",
    "\n",
    "        else:   #若陣列中有兩個以上數字則走以下步驟\n",
    "            mid = len(nums)//2   #mid為陣列長度整除2的位置\n",
    "            left = self.merge_sort_1(nums[:mid])   \n",
    "            right = self.merge_sort_1(nums[mid:])   #以mid分為左右陣列，呼叫mergesort函式不斷分解左右陣列\n",
    "\n",
    "            i = 0\n",
    "            j = 0\n",
    "\n",
    "            for c in range(len(nums)):   #設變數c為原陣列中的位置\n",
    "                if left[i] < right[j]:   #若i的數字小於j的數字\n",
    "                    nums[c] = left[i]   #i的數字丟進c\n",
    "                    i += 1   \n",
    "                else:   #若i的數字大於j的數字\n",
    "                    nums[c] = right[j]   #j的數字丟進c\n",
    "                    j += 1\n",
    "        return nums"
   ]
  },
  {
   "cell_type": "code",
   "execution_count": 2,
   "metadata": {},
   "outputs": [
    {
     "ename": "IndexError",
     "evalue": "list index out of range",
     "output_type": "error",
     "traceback": [
      "\u001b[0;31m---------------------------------------------------------------------------\u001b[0m",
      "\u001b[0;31mIndexError\u001b[0m                                Traceback (most recent call last)",
      "\u001b[0;32m<ipython-input-2-5c13008039a2>\u001b[0m in \u001b[0;36m<module>\u001b[0;34m()\u001b[0m\n\u001b[0;32m----> 1\u001b[0;31m \u001b[0moutput\u001b[0m \u001b[0;34m=\u001b[0m \u001b[0msolution\u001b[0m\u001b[0;34m(\u001b[0m\u001b[0;34m)\u001b[0m\u001b[0;34m.\u001b[0m\u001b[0mmerge_sort_1\u001b[0m\u001b[0;34m(\u001b[0m\u001b[0;34m[\u001b[0m\u001b[0;36m3\u001b[0m\u001b[0;34m,\u001b[0m\u001b[0;36m1\u001b[0m\u001b[0;34m,\u001b[0m\u001b[0;36m5\u001b[0m\u001b[0;34m,\u001b[0m\u001b[0;36m8\u001b[0m\u001b[0;34m,\u001b[0m\u001b[0;36m2\u001b[0m\u001b[0;34m,\u001b[0m\u001b[0;36m7\u001b[0m\u001b[0;34m,\u001b[0m\u001b[0;36m9\u001b[0m\u001b[0;34m,\u001b[0m\u001b[0;36m4\u001b[0m\u001b[0;34m]\u001b[0m\u001b[0;34m)\u001b[0m\u001b[0;34m\u001b[0m\u001b[0m\n\u001b[0m\u001b[1;32m      2\u001b[0m \u001b[0moutput\u001b[0m\u001b[0;34m\u001b[0m\u001b[0m\n",
      "\u001b[0;32m<ipython-input-1-24b72d28bbfa>\u001b[0m in \u001b[0;36mmerge_sort_1\u001b[0;34m(self, nums)\u001b[0m\n\u001b[1;32m      7\u001b[0m         \u001b[0;32melse\u001b[0m\u001b[0;34m:\u001b[0m   \u001b[0;31m#若陣列中有兩個以上數字則走以下步驟\u001b[0m\u001b[0;34m\u001b[0m\u001b[0m\n\u001b[1;32m      8\u001b[0m             \u001b[0mmid\u001b[0m \u001b[0;34m=\u001b[0m \u001b[0mlen\u001b[0m\u001b[0;34m(\u001b[0m\u001b[0mnums\u001b[0m\u001b[0;34m)\u001b[0m\u001b[0;34m//\u001b[0m\u001b[0;36m2\u001b[0m   \u001b[0;31m#mid為陣列長度整除2的位置\u001b[0m\u001b[0;34m\u001b[0m\u001b[0m\n\u001b[0;32m----> 9\u001b[0;31m             \u001b[0mleft\u001b[0m \u001b[0;34m=\u001b[0m \u001b[0mself\u001b[0m\u001b[0;34m.\u001b[0m\u001b[0mmerge_sort_1\u001b[0m\u001b[0;34m(\u001b[0m\u001b[0mnums\u001b[0m\u001b[0;34m[\u001b[0m\u001b[0;34m:\u001b[0m\u001b[0mmid\u001b[0m\u001b[0;34m]\u001b[0m\u001b[0;34m)\u001b[0m\u001b[0;34m\u001b[0m\u001b[0m\n\u001b[0m\u001b[1;32m     10\u001b[0m             \u001b[0mright\u001b[0m \u001b[0;34m=\u001b[0m \u001b[0mself\u001b[0m\u001b[0;34m.\u001b[0m\u001b[0mmerge_sort_1\u001b[0m\u001b[0;34m(\u001b[0m\u001b[0mnums\u001b[0m\u001b[0;34m[\u001b[0m\u001b[0mmid\u001b[0m\u001b[0;34m:\u001b[0m\u001b[0;34m]\u001b[0m\u001b[0;34m)\u001b[0m   \u001b[0;31m#以mid分為左右陣列，呼叫mergesort函式不斷分解左右陣列\u001b[0m\u001b[0;34m\u001b[0m\u001b[0m\n\u001b[1;32m     11\u001b[0m \u001b[0;34m\u001b[0m\u001b[0m\n",
      "\u001b[0;32m<ipython-input-1-24b72d28bbfa>\u001b[0m in \u001b[0;36mmerge_sort_1\u001b[0;34m(self, nums)\u001b[0m\n\u001b[1;32m      7\u001b[0m         \u001b[0;32melse\u001b[0m\u001b[0;34m:\u001b[0m   \u001b[0;31m#若陣列中有兩個以上數字則走以下步驟\u001b[0m\u001b[0;34m\u001b[0m\u001b[0m\n\u001b[1;32m      8\u001b[0m             \u001b[0mmid\u001b[0m \u001b[0;34m=\u001b[0m \u001b[0mlen\u001b[0m\u001b[0;34m(\u001b[0m\u001b[0mnums\u001b[0m\u001b[0;34m)\u001b[0m\u001b[0;34m//\u001b[0m\u001b[0;36m2\u001b[0m   \u001b[0;31m#mid為陣列長度整除2的位置\u001b[0m\u001b[0;34m\u001b[0m\u001b[0m\n\u001b[0;32m----> 9\u001b[0;31m             \u001b[0mleft\u001b[0m \u001b[0;34m=\u001b[0m \u001b[0mself\u001b[0m\u001b[0;34m.\u001b[0m\u001b[0mmerge_sort_1\u001b[0m\u001b[0;34m(\u001b[0m\u001b[0mnums\u001b[0m\u001b[0;34m[\u001b[0m\u001b[0;34m:\u001b[0m\u001b[0mmid\u001b[0m\u001b[0;34m]\u001b[0m\u001b[0;34m)\u001b[0m\u001b[0;34m\u001b[0m\u001b[0m\n\u001b[0m\u001b[1;32m     10\u001b[0m             \u001b[0mright\u001b[0m \u001b[0;34m=\u001b[0m \u001b[0mself\u001b[0m\u001b[0;34m.\u001b[0m\u001b[0mmerge_sort_1\u001b[0m\u001b[0;34m(\u001b[0m\u001b[0mnums\u001b[0m\u001b[0;34m[\u001b[0m\u001b[0mmid\u001b[0m\u001b[0;34m:\u001b[0m\u001b[0;34m]\u001b[0m\u001b[0;34m)\u001b[0m   \u001b[0;31m#以mid分為左右陣列，呼叫mergesort函式不斷分解左右陣列\u001b[0m\u001b[0;34m\u001b[0m\u001b[0m\n\u001b[1;32m     11\u001b[0m \u001b[0;34m\u001b[0m\u001b[0m\n",
      "\u001b[0;32m<ipython-input-1-24b72d28bbfa>\u001b[0m in \u001b[0;36mmerge_sort_1\u001b[0;34m(self, nums)\u001b[0m\n\u001b[1;32m     14\u001b[0m \u001b[0;34m\u001b[0m\u001b[0m\n\u001b[1;32m     15\u001b[0m             \u001b[0;32mfor\u001b[0m \u001b[0mc\u001b[0m \u001b[0;32min\u001b[0m \u001b[0mrange\u001b[0m\u001b[0;34m(\u001b[0m\u001b[0mlen\u001b[0m\u001b[0;34m(\u001b[0m\u001b[0mnums\u001b[0m\u001b[0;34m)\u001b[0m\u001b[0;34m)\u001b[0m\u001b[0;34m:\u001b[0m   \u001b[0;31m#設變數c為原陣列中的位置\u001b[0m\u001b[0;34m\u001b[0m\u001b[0m\n\u001b[0;32m---> 16\u001b[0;31m                 \u001b[0;32mif\u001b[0m \u001b[0mleft\u001b[0m\u001b[0;34m[\u001b[0m\u001b[0mi\u001b[0m\u001b[0;34m]\u001b[0m \u001b[0;34m<\u001b[0m \u001b[0mright\u001b[0m\u001b[0;34m[\u001b[0m\u001b[0mj\u001b[0m\u001b[0;34m]\u001b[0m\u001b[0;34m:\u001b[0m   \u001b[0;31m#若i的數字小於j的數字\u001b[0m\u001b[0;34m\u001b[0m\u001b[0m\n\u001b[0m\u001b[1;32m     17\u001b[0m                     \u001b[0mnums\u001b[0m\u001b[0;34m[\u001b[0m\u001b[0mc\u001b[0m\u001b[0;34m]\u001b[0m \u001b[0;34m=\u001b[0m \u001b[0mleft\u001b[0m\u001b[0;34m[\u001b[0m\u001b[0mi\u001b[0m\u001b[0;34m]\u001b[0m   \u001b[0;31m#i的數字丟進c\u001b[0m\u001b[0;34m\u001b[0m\u001b[0m\n\u001b[1;32m     18\u001b[0m                     \u001b[0mi\u001b[0m \u001b[0;34m+=\u001b[0m \u001b[0;36m1\u001b[0m\u001b[0;34m\u001b[0m\u001b[0m\n",
      "\u001b[0;31mIndexError\u001b[0m: list index out of range"
     ]
    }
   ],
   "source": [
    "output = Solution().merge_sort_1([3,1,5,8,2,7,9,4])\n",
    "output"
   ]
  },
  {
   "cell_type": "markdown",
   "metadata": {},
   "source": [
    "## 後來更正\n",
    "\n",
    "### Part 1 的步驟無更改 \n",
    "### Part 2 由步驟 3 開始更正\n",
    "1. 設 i、j 分別為 left、right 陣列的位置變數，從位置 0 開始。\n",
    "2. 變數 c 代表原陣列的位置 0 至 7，從位置 0 開始。\n",
    "3. 設 while 迴圈，給予條件式 i 小於 left 陣列長度以及 j 小於 right 陣列長度。若 left 陣列中 i 位置的數字小於 right 陣列中 j 位置的數字，i 位置的數字則丟進原陣列的 c 位置，i 位置順移下一位，c 位置順移下一位；若 left 陣列中 i 位置的數字大於 right 陣列中 j 位置的數字，j 位置的數字則丟進原陣列的 c 位置，j 位置順移下一位，c 位置順移下一位。\n",
    "   * 若 left = [ 1, 3, 5, 8 ]，right = [ 2, 4, 7, 9 ]。\n",
    "   * c = 0，left [ i = 0 ] 數字 1 小於 right [ j = 0 ] 數字 2，數字 1 丟進原陣列的位置 0，i 移動至 1，c 移動至 1。\n",
    "   * c = 1，left [ i = 1 ] 數字 3 大於 right [ j = 0 ] 數字 2，數字 2 丟進原陣列的位置 1，j 移動至 1，c 移動至 2。\n",
    "4. 設第二個 while 迴圈，給予條件式 i 小於 left 陣列長度以及 j 大於等於 right 陣列長度，意即 j 已跑完 right 中所有數字並丟進原陣列，所以將 i 還未跑完的數字依序丟進原陣列，i 與 c 位置順移下一位。\n",
    "5. 設第三個 while 迴圈，給予條件式 i 大於等於 left 陣列長度以及 j 小於 right 陣列長度，意即 i 已跑完 left 中所有數字並丟進原陣列，所以將 j 還未跑完的數字依序丟進原陣列，j 與 c 位置順移下一位。"
   ]
  },
  {
   "cell_type": "markdown",
   "metadata": {},
   "source": [
    "#### 註：為何要將 for 迴圈改成 while 迴圈？\n",
    "for 迴圈與 while 迴圈的差別在於，for  迴圈以固定數量的數值作為控制條件，如 range ( ) ，while 迴圈以某個條件（條件式）作為控制條件，如 i < len ( left )。以條件式的方式限制 i 與 j 不能超過 left 與 right 陣列的長度，如此就不會有多出來的 index。"
   ]
  },
  {
   "cell_type": "code",
   "execution_count": 3,
   "metadata": {},
   "outputs": [],
   "source": [
    "class Solution(object):\n",
    "    def merge_sort(self,nums):\n",
    "\n",
    "        if len(nums) <= 1: \n",
    "            return nums   #若陣列中只有一個數字或沒有數字，直接retrun陣列\n",
    "\n",
    "        else:   #若陣列中有兩個以上數字則走以下步驟\n",
    "            mid = len(nums)//2   #mid為陣列長度整除2的位置\n",
    "            left = self.merge_sort(nums[:mid])   \n",
    "            right = self.merge_sort(nums[mid:])   #以mid分為左右陣列，呼叫mergesort函式不斷分解左右陣列\n",
    "\n",
    "            i = 0\n",
    "            j = 0\n",
    "            c = 0\n",
    "\n",
    "            while i < len(left) and j < len(right):   #i與j皆小於左右陣列長度\n",
    "                if left[i] < right[j]:   #若i的數字小於j的數字\n",
    "                    nums[c] = left[i]   #i的數字丟進c\n",
    "                    i += 1\n",
    "                else:   #若i的數字大於j的數字\n",
    "                    nums[c] = right[j]   #j的數字丟進c\n",
    "                    j += 1\n",
    "                c += 1\n",
    "\n",
    "            while i < len(left) and j >= len(right):   #j已跑完右陣列的數字\n",
    "                nums[c] = left[i]   #i的數字丟進c\n",
    "                i += 1\n",
    "                c += 1\n",
    "\n",
    "            while i >= len(left) and j < len(right):   #i已跑完右陣列的數字\n",
    "                nums[c] = right[j]   #j的數字丟進c\n",
    "                j += 1\n",
    "                c += 1\n",
    "\n",
    "        return nums"
   ]
  },
  {
   "cell_type": "code",
   "execution_count": 4,
   "metadata": {},
   "outputs": [
    {
     "data": {
      "text/plain": [
       "[1, 2, 3, 4, 5, 7, 8, 9]"
      ]
     },
     "execution_count": 4,
     "metadata": {},
     "output_type": "execute_result"
    }
   ],
   "source": [
    "output = Solution().merge_sort([3,1,5,8,2,7,9,4])\n",
    "output"
   ]
  },
  {
   "cell_type": "markdown",
   "metadata": {},
   "source": [
    "# 流程圖"
   ]
  },
  {
   "cell_type": "markdown",
   "metadata": {},
   "source": [
    "![](https://i.imgur.com/36cIWve.jpg)"
   ]
  }
 ],
 "metadata": {
  "kernelspec": {
   "display_name": "Python 3",
   "language": "python",
   "name": "python3"
  },
  "language_info": {
   "codemirror_mode": {
    "name": "ipython",
    "version": 3
   },
   "file_extension": ".py",
   "mimetype": "text/x-python",
   "name": "python",
   "nbconvert_exporter": "python",
   "pygments_lexer": "ipython3",
   "version": "3.6.4"
  }
 },
 "nbformat": 4,
 "nbformat_minor": 2
}
