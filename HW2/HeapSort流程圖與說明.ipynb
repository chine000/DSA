{
 "cells": [
  {
   "cell_type": "markdown",
   "metadata": {},
   "source": [
    "# Heap Sort\n",
    "堆積排序法：將一個數列排成完全二元樹，每一個父節點必須大於兩個子節點，形成 Max Heap，將第一個節點與最後一個節點交換，此時最後一個節點為最大的數並以排列完成，忽略最後一個節點重複前面步驟，直至數列排列完成。\n"
   ]
  },
  {
   "cell_type": "markdown",
   "metadata": {},
   "source": [
    "# 學習歷程與說明\n",
    "## 原本的構想：comparison_1 函式\n",
    "一開始沒有頭緒，只能先想出如何比較父節點與子節點大小並交換，也就是程式碼中 comparison 的部分，卻忽略了 left 與 right 有可能超過 nums 的長度，也忽略了當左右兩節點都大於父節點該怎麼辦，於是參考了以下網站，並**自己重寫了一遍**。\n",
    "   * [參考網站](https://github.com/minsuk-heo/problemsolving/blob/master/sort/HeapSort.py)"
   ]
  },
  {
   "cell_type": "code",
   "execution_count": 5,
   "metadata": {},
   "outputs": [],
   "source": [
    "def comparison_1(nums,i,n):\n",
    "    root = i   #i為root\n",
    "    left = 2*i+1   #left為左子節點\n",
    "    right = 2*i+2   #right為右子節點\n",
    "\n",
    "    if nums[left] > nums[root] and nums[right] <= nums[root]:   #left的數字大於root的數字\n",
    "        nums[root],nums[left] = nums[root],nums[i]   #交換\n",
    "\n",
    "    if nums[right] > nums[root] and nums[left] <= nums[root]:   #right的數字大於root的數字\n",
    "        nums[root],nums[right] = nums[right],nums[root]"
   ]
  },
  {
   "cell_type": "markdown",
   "metadata": {},
   "source": [
    "## 後來更正：heap_sort 函式\n",
    "### Part 1 — comparison：先設一個比較的公式\n",
    "   * array = [ 8, 2, 10, 5, 9, 1, 6, 3, 7, 4 ]"
   ]
  },
  {
   "cell_type": "markdown",
   "metadata": {},
   "source": [
    "1. 父節點 i 為變數 biggest，left 為左子節點，right 為右子節點。\n",
    "2. left 小於等於陣列長度減 1（若陣列有 10 個數字，left 只能走到位置 9，因位置從 0 開始），left 的數字大於 i 的數字，此時 left 為變數 biggest（意即左子節點變為最大數）。\n",
    "3. right 小於等於陣列長度減 1，right 的數字大於 biggest 的數字（意即無論是 i 或是 left 等於 biggest，right 的數字都必須大於他才成立），此時 right 為變數 biggest（意即右子節點變為最大數）。\n",
    "   * 若 i = 1（數字 2 ），left = 3（數字 5 ），right = 4（數字 9 ）。\n",
    "   * left 的數字 5 大於 i 的數字 2，此時 left 為 biggest。\n",
    "   * right 的數字 9 大於 biggest 的數字 5，此時 right 為 biggest。\n",
    "4. 經過上面兩個 if 判斷式，若 i 已不等於 biggest，則交換 i 與 biggest 的數字（位置並無交換）。\n",
    "5. 呼叫 comparison 函式，以剛剛的 biggest 為 i，往下檢查所有父節點皆大於子節點。"
   ]
  },
  {
   "cell_type": "markdown",
   "metadata": {},
   "source": [
    "### Part 2 — heapify：找出最後一個父節點，往前一堆一堆比較。\n",
    "1. 最後一個父節點為 parent，陣列長度減 2 整除 2。\n",
    "   * n = 10，最後一個父節點為位置 4（數字 9 ）。\n",
    "2. 當最後一個父節點大於等於 0（意即位置不能是負數），呼叫 comparison 函式，以 parent 為 i。\n",
    "3. 比較完畢後，parent 往前順移一位，跑 while 迴圈，直至跑完所有父節點，形成 Max Heap。"
   ]
  },
  {
   "cell_type": "markdown",
   "metadata": {},
   "source": [
    "### Part 3 — heapsort：將 Max Heap 第一個節點擺至最後，直至排序完成。\n",
    "1. 先定義 n 為陣列長度。\n",
    "2. 呼叫 heapify 函式，排出 Max Heap。\n",
    "3. 設 end 為陣列長度減 1，為最後一個數的位置。\n",
    "4. 當 end 大於 0（意即陣列至少有兩個數），陣列中位置 0 的數字與 end 的數字交換，此時最後一個位置的數為最大值並且排序完成。\n",
    "5. 呼叫 comparison 函式，以 0 為 i，以 end 為 n（意即共有 end 個數字要比較）。\n",
    "   * n = 10，end = 9。\n",
    "   * 若最大數字 10 已被擺至最後一個位置，代表已排列完成，於是忽略。\n",
    "   * 由第 1 個數字至第 9 個數字進行 comparison 函式，因此以 end（數字 9 ）為 n。 \n",
    "6. end 往前順移一位，跑 while 迴圈，直至所有數字皆排序完成。"
   ]
  },
  {
   "cell_type": "code",
   "execution_count": 6,
   "metadata": {},
   "outputs": [],
   "source": [
    "class Solution(object):\n",
    "    def heap_sort(self,nums):\n",
    "        n = len(nums)\n",
    "        self.heapify(nums,n)   #呼叫heapify函式形成Max Heap\n",
    "        end = n-1   #最後一個數的位置\n",
    "\n",
    "        while end > 0:   #陣列至少要有兩個數\n",
    "            nums[0],nums[end] = nums[end],nums[0]\n",
    "            self.comparison(nums,0,end)   #呼叫comparison函式由上而下比較\n",
    "            end -= 1\n",
    "        return nums\n",
    "\n",
    "    def comparison(self,nums,i,n):\n",
    "        biggest = i   #i為biggest\n",
    "        left = 2*i+1   #left為左子節點\n",
    "        right = 2*i+2   #right為右子節點\n",
    "\n",
    "        if left <= n-1 and nums[left] > nums[i]:   #left在陣列長度之內，數字大於i的數字\n",
    "            biggest = left   #left為biggest\n",
    "\n",
    "        if right <= n-1 and nums[right] > nums[biggest]:   #right在陣列長度之內，數字大於biggest的數字\n",
    "            biggest = right   #right為biggest\n",
    "\n",
    "        if biggest != i:   #若i不為biggest\n",
    "            nums[i],nums[biggest] = nums[biggest],nums[i]  \n",
    "            self.comparison(nums,biggest,n)   #重複呼叫函式檢查以下的父節點大於子節點\n",
    "\n",
    "    def heapify(self,nums,n):\n",
    "        parent = (n-2)//2   #最後一個父節點\n",
    "\n",
    "        while parent >= 0:   #位置不能為負數\n",
    "            self.comparison(nums,parent,n)   #呼叫comparison函式比較\n",
    "            parent -= 1"
   ]
  },
  {
   "cell_type": "code",
   "execution_count": 7,
   "metadata": {},
   "outputs": [
    {
     "data": {
      "text/plain": [
       "[1, 2, 3, 4, 5, 6, 7, 8, 9, 10]"
      ]
     },
     "execution_count": 7,
     "metadata": {},
     "output_type": "execute_result"
    }
   ],
   "source": [
    "output = Solution().heap_sort([8,2,10,5,9,1,6,3,7,4])\n",
    "output"
   ]
  },
  {
   "cell_type": "markdown",
   "metadata": {},
   "source": [
    "# 流程圖"
   ]
  },
  {
   "cell_type": "markdown",
   "metadata": {},
   "source": [
    "![](https://i.imgur.com/pyzzY5Q.jpg)"
   ]
  }
 ],
 "metadata": {
  "kernelspec": {
   "display_name": "Python 3",
   "language": "python",
   "name": "python3"
  },
  "language_info": {
   "codemirror_mode": {
    "name": "ipython",
    "version": 3
   },
   "file_extension": ".py",
   "mimetype": "text/x-python",
   "name": "python",
   "nbconvert_exporter": "python",
   "pygments_lexer": "ipython3",
   "version": "3.6.4"
  }
 },
 "nbformat": 4,
 "nbformat_minor": 2
}
