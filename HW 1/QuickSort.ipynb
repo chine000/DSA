{
 "cells": [
  {
   "cell_type": "code",
   "execution_count": 61,
   "metadata": {},
   "outputs": [],
   "source": [
    "def partition(array,front,end):\n",
    "    i = front - 1\n",
    "    for j in range(front,end):\n",
    "        if array[j] <= array[end]:\n",
    "            i+=1\n",
    "            array[j],array[i] = array[i],array[j]\n",
    "    array[i+1],array[end] = array[end],array[i+1] \n",
    "    return i+1"
   ]
  },
  {
   "cell_type": "code",
   "execution_count": 62,
   "metadata": {},
   "outputs": [],
   "source": [
    "def quicksort(array,front,end):\n",
    "    if front < end:\n",
    "        pivot = partition(array,front,end)\n",
    "        quicksort(array,front,pivot-1)\n",
    "        quicksort(array,pivot+1,end)"
   ]
  },
  {
   "cell_type": "code",
   "execution_count": 63,
   "metadata": {},
   "outputs": [],
   "source": [
    "array = [4,2,9,7,1,8,5,6,3]"
   ]
  },
  {
   "cell_type": "code",
   "execution_count": 64,
   "metadata": {},
   "outputs": [
    {
     "name": "stdout",
     "output_type": "stream",
     "text": [
      "[1, 2, 3, 4, 5, 6, 7, 8, 9]\n"
     ]
    }
   ],
   "source": [
    "quicksort(array,0,8)\n",
    "print (array)"
   ]
  },
  {
   "cell_type": "code",
   "execution_count": null,
   "metadata": {},
   "outputs": [],
   "source": []
  }
 ],
 "metadata": {
  "kernelspec": {
   "display_name": "Python 3",
   "language": "python",
   "name": "python3"
  },
  "language_info": {
   "codemirror_mode": {
    "name": "ipython",
    "version": 3
   },
   "file_extension": ".py",
   "mimetype": "text/x-python",
   "name": "python",
   "nbconvert_exporter": "python",
   "pygments_lexer": "ipython3",
   "version": "3.6.4"
  }
 },
 "nbformat": 4,
 "nbformat_minor": 2
}
